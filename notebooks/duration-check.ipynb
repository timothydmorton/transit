{
 "cells": [
  {
   "cell_type": "code",
   "execution_count": 2,
   "metadata": {
    "collapsed": true
   },
   "outputs": [],
   "source": [
    "%matplotlib inline\n",
    "\n",
    "import numpy as np\n",
    "import matplotlib.pyplot as plt\n",
    "import math\n",
    "from math import pi\n",
    "from transit import System, Central, Body"
   ]
  },
  {
   "cell_type": "code",
   "execution_count": 3,
   "metadata": {
    "collapsed": true
   },
   "outputs": [],
   "source": [
    "def measure_duration(ts, fs):\n",
    "    first = np.where(fs<1)[0][0]\n",
    "    last = np.where(fs<1)[0][-1]\n",
    "    return ts[last] - ts[first]"
   ]
  },
  {
   "cell_type": "code",
   "execution_count": 11,
   "metadata": {
    "collapsed": false
   },
   "outputs": [
    {
     "name": "stdout",
     "output_type": "stream",
     "text": [
      "winn: 0.402086338545, transit: 0.401680336067 (omega=0.000)\n",
      "winn: 0.26805755903, transit: 0.0888177635527 (omega=1.571)\n",
      "winn: 0.402086338545, transit: 0.401680336067 (omega=3.142)\n",
      "winn: 0.80417267709, transit: 2.41088217644 (omega=4.712)\n"
     ]
    },
    {
     "data": {
      "text/plain": [
       "<matplotlib.legend.Legend at 0x106470290>"
      ]
     },
     "execution_count": 11,
     "metadata": {},
     "output_type": "execute_result"
    },
    {
     "data": {
      "image/png": "[encoded data removed]",
      "text/plain": [
       "<matplotlib.figure.Figure at 0x107807710>"
      ]
     },
     "metadata": {},
     "output_type": "display_data"
    }
   ],
   "source": [
    "P = 200.\n",
    "b = 0; e = 0.5\n",
    "\n",
    "for w in [0, pi/2, pi, 3*pi/2]:\n",
    "    s = System(Central())\n",
    "    body = Body(r=0.05, period=P, e=e, b=b, omega=w)\n",
    "    s.add_body(body)\n",
    "    tspan = 2\n",
    "    ts = np.linspace(-tspan, tspan, 5000)\n",
    "    fs = s.light_curve(ts)\n",
    "    plt.plot(ts, fs, '+', label='omega={:.2f}'.format(w))\n",
    "    dur = body.duration\n",
    "    dur *= math.sqrt(1 - e*e)/(1 + e*math.sin(w))\n",
    "    aR = body.a\n",
    "    print('winn: {}, transit: {} (omega={:.3f})'.format(dur, measure_duration(ts, fs),w))\n",
    "plt.legend()"
   ]
  },
  {
   "cell_type": "markdown",
   "metadata": {},
   "source": [
    "This can't be right, right?"
   ]
  }
 ],
 "metadata": {
  "kernelspec": {
   "display_name": "Python 2",
   "language": "python",
   "name": "python2"
  },
  "language_info": {
   "codemirror_mode": {
    "name": "ipython",
    "version": 2
   },
   "file_extension": ".py",
   "mimetype": "text/x-python",
   "name": "python",
   "nbconvert_exporter": "python",
   "pygments_lexer": "ipython2",
   "version": "2.7.10"
  }
 },
 "nbformat": 4,
 "nbformat_minor": 0
}
